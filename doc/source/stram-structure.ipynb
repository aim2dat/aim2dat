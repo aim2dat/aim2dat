{
 "cells": [
  {
   "cell_type": "raw",
   "id": "ca70229d",
   "metadata": {
    "raw_mimetype": "text/restructuredtext"
   },
   "source": [
    "========================================\n",
    "Representation of molecules and crystals\n",
    "========================================\n",
    "\n",
    "The :class:`Structure <aim2dat.strct.Structure>` class is designed to contain all necessary details of a molecular or crystalline structure. Moreover, it contains all methods that operate on a single structure, e.g. order parameters or the distance between atoms, and methods to manipulate the :class:`Structure <aim2dat.strct.Structure>` object, e.g. deleting atoms or scaling the structrue's unit cell. In case of the manipulation methods, a new :class:`Structure <aim2dat.strct.Structure>` instance will be returned and the initial :class:`Structure <aim2dat.strct.Structure>` object remains unchanged.\n",
    "\n",
    "Initialization of the object\n",
    "============================\n",
    "\n",
    "A structure is defined by its periodic boundary condition (:attr:`pbc <aim2dat.strct.Structure.pbc>`) and two lists with the length equal to the number of atoms:\n",
    "\n",
    "* :attr:`elements <aim2dat.strct.Structure.elements>` contains the element symbol or number of each atom.\n",
    "* :attr:`positions <aim2dat.strct.Structure.positions>` contains the cartesian coordinates (list or tuple of three numbers) of each atom.\n",
    "\n",
    "The periodic boundary conditions can be given as single boolean or a list of 3 booleans for mixed periodic and non-periodic boundary conditions.\n",
    "If :attr:`pbc <aim2dat.strct.Structure.pbc>` is set to `True` for one or more directions a cell needs to be specified as well via a 3 times 3 nested list.\n",
    "If :attr:`cell <aim2dat.strct.Structure.cell>` is given, the positions can also be passed on as scaled coordinates by setting the ``is_cartesian`` key to ``False`` or wrapped back into the unit cell by setting ``wrap`` to ``True``.\n",
    "\n",
    "The :class:`Structure <aim2dat.strct.Structure>` object is created by passing the information at the initialization of the class:"
   ]
  },
  {
   "cell_type": "code",
   "execution_count": null,
   "id": "310a9474",
   "metadata": {},
   "outputs": [],
   "source": [
    "from aim2dat.strct import Structure\n",
    "\n",
    "strct_molecule = Structure(\n",
    "    label=\"molecule\",\n",
    "    elements=[\"N\", \"H\", 1, 1],\n",
    "    positions=[\n",
    "        [0.000000, 0.000000, 0.000000],\n",
    "        [0.000000, 0.000000, 1.008000],\n",
    "        [0.950353, 0.000000, -0.336000],\n",
    "        [-0.475176, -0.823029, -0.336000],\n",
    "    ],\n",
    "    pbc=False,\n",
    "    site_attributes = {\"oxidation_state\": [-3, 1, 1, 1]}\n",
    ")\n",
    "\n",
    "strct_crystal = Structure(\n",
    "    elements=[\"Ga\", \"As\"],\n",
    "    positions=[\n",
    "        [0.0, 0.0, 0.0],\n",
    "        [1.75, 1.75, 1.75],\n",
    "    ],\n",
    "    cell=[\n",
    "        [0.0, 4.066, 4.0660001],\n",
    "        [4.066, 0.0, 4.066],\n",
    "        [4.066, 4.066, 0.0],\n",
    "    ],\n",
    "    is_cartesian=False,\n",
    "    wrap=True,\n",
    "    pbc=[True, True, True],\n",
    ")"
   ]
  },
  {
   "cell_type": "raw",
   "id": "db2c3807-ce82-47ea-b960-4b78cb0d9960",
   "metadata": {
    "raw_mimetype": "text/restructuredtext"
   },
   "source": [
    "Some structures are pre-defined and can be initialized via the :meth:`from_str <aim2dat.strct.Structure.from_str>` function, a list of all pre-defined, named structures can be obtained via the :meth:`from_str <aim2dat.strct.Structure.list_named_structures>` function:"
   ]
  },
  {
   "cell_type": "code",
   "execution_count": null,
   "id": "82b10f8d-fe41-4cee-b55a-15c45fa4187c",
   "metadata": {},
   "outputs": [],
   "source": [
    "Structure.list_named_structures()"
   ]
  },
  {
   "cell_type": "code",
   "execution_count": null,
   "id": "6089701e-0048-4dbe-bd22-027cd8aa98ae",
   "metadata": {},
   "outputs": [],
   "source": [
    "print(Structure.from_str(\"H2O\"))"
   ]
  },
  {
   "cell_type": "raw",
   "id": "7b101b2e",
   "metadata": {
    "raw_mimetype": "text/restructuredtext"
   },
   "source": [
    "The following additional properties can be specified during the instance creation:\n",
    "\n",
    "* :attr:`cell <aim2dat.strct.Structure.cell>` defines the unit cell for periodic structures.\n",
    "* ``is_cartesian`` specifies whether the given coordinates (:attr:`positions <aim2dat.strct.Structure.positions>`) are cartesian or scaled by the :attr:`cell <aim2dat.strct.Structure.cell>` vectors.\n",
    "* :attr:`kinds <aim2dat.strct.Structure.kinds>` can be assigned to distinguish atoms of the same element but with different properties (e.g. spin-up and spin-down in magnetic materials). It expects a list with the same length as :attr:`elements <aim2dat.strct.Structure.elements>` and :attr:`positions <aim2dat.strct.Structure.positions>`.\n",
    "* :attr:`attributes <aim2dat.strct.Structure.attributes>` stores a dictionary of different structural properties or can contain additional information about the structure.\n",
    "* :attr:`site_attributes <aim2dat.strct.Structure.site_attributes>` stores attributes containing information on the atom sites. Therefore, each value must have the same length as :attr:`elements <aim2dat.strct.Structure.elements>` and :attr:`positions <aim2dat.strct.Structure.positions>`.\n",
    "* :attr:`site_attributes <aim2dat.strct.Structure.site_attributes>` stores a dictionary likewise to :attr:`attributes <aim2dat.strct.Structure.attributes>`. However, each value needs to have the length of sites of the structure and individual values can be accessed via the :meth:`iter_sites <aim2dat.strct.Structure.iter_sites>`.\n",
    "* :attr:`extras <aim2dat.strct.Structure.extras>` contains a dictionary with extensive calculation results, e.g. a partial radial distribution function.\n",
    "* :attr:`label <aim2dat.strct.Structure.label>` is a string and used as a key or identifier in the :class:`StructureCollection <aim2dat.strct.StructureCollection>` object.\n",
    "\n",
    "An overview of the set properties is given by using the string-representation of the object:"
   ]
  },
  {
   "cell_type": "code",
   "execution_count": null,
   "id": "32694065",
   "metadata": {},
   "outputs": [],
   "source": [
    "print(strct_crystal)"
   ]
  },
  {
   "cell_type": "raw",
   "id": "4b2b2801",
   "metadata": {
    "raw_mimetype": "text/restructuredtext"
   },
   "source": [
    "Interface to other packages\n",
    "===========================\n",
    "\n",
    "A :class:`Structure <aim2dat.strct.Structure>` object can also be directly created via the import-methods with prefix ``from_*``. A list of all methods can be given via the :attr:`import_methods <aim2dat.strct.Structure.import_methods>` property:"
   ]
  },
  {
   "cell_type": "code",
   "execution_count": null,
   "id": "23186262",
   "metadata": {},
   "outputs": [],
   "source": [
    "Structure.list_import_methods()"
   ]
  },
  {
   "cell_type": "raw",
   "id": "0bc13c8f",
   "metadata": {
    "raw_mimetype": "text/restructuredtext"
   },
   "source": [
    "As an example we create an ase `Atoms` object (more details are given in the |ase_doc| and use the corresponding import method to initiate the :class:`Structure <aim2dat.strct.Structure>` object:\n",
    "\n",
    ".. |ase_doc| raw:: html\n",
    "\n",
    "   <a href=\"https://wiki.fysik.dtu.dk/ase/\" target=\"_blank\">ASE documentation</a>"
   ]
  },
  {
   "cell_type": "code",
   "execution_count": null,
   "id": "f93d5961",
   "metadata": {},
   "outputs": [],
   "source": [
    "from ase.spacegroup import crystal\n",
    "\n",
    "a = 4.066 * 2.0\n",
    "GaAs_conv = crystal(\n",
    "    (\"Ga\", \"As\"),\n",
    "    basis=((0.0, 0.0, 0.0), (0.75, 0.75, 0.75)),\n",
    "    spacegroup=216,\n",
    "    cellpar=[a, a, a, 90, 90, 90],\n",
    "    primitive_cell=False,\n",
    ")\n",
    "\n",
    "strct_crystal_conv = Structure.from_ase_atoms(GaAs_conv, label=\"GaAs_crystal\")\n",
    "print(strct_crystal_conv)"
   ]
  },
  {
   "cell_type": "raw",
   "id": "4152ac9d",
   "metadata": {
    "raw_mimetype": "text/restructuredtext"
   },
   "source": [
    "In a similar way a :class:`Structure <aim2dat.strct.Structure>` can be exported into the representing python objects of other python packages or written into a file (using the |ase_page| package as backend). A list of all methods is given via the :attr:`export_methods <aim2dat.strct.Structure.export_methods>`:\n",
    "\n",
    ".. |ase_page| raw:: html\n",
    "\n",
    "   <a href=\"https://wiki.fysik.dtu.dk/ase/\" target=\"_blank\">ASE</a>"
   ]
  },
  {
   "cell_type": "code",
   "execution_count": null,
   "id": "675415fc",
   "metadata": {},
   "outputs": [],
   "source": [
    "Structure.list_export_methods()"
   ]
  },
  {
   "cell_type": "raw",
   "id": "061905c4",
   "metadata": {
    "raw_mimetype": "text/restructuredtext"
   },
   "source": [
    "For example, a file is created using the :attr:`to_file <aim2dat.strct.Structure.to_file>` method:"
   ]
  },
  {
   "cell_type": "code",
   "execution_count": null,
   "id": "9aba4f8b",
   "metadata": {},
   "outputs": [],
   "source": [
    "strct_crystal_conv.to_file(\"GaAs_crystal.xsf\")"
   ]
  },
  {
   "cell_type": "raw",
   "id": "899601e0",
   "metadata": {
    "raw_mimetype": "text/restructuredtext"
   },
   "source": [
    "Manipulating structures\n",
    "=======================\n",
    "\n",
    "Another set of methods implemented in the :class:`Structure <aim2dat.strct.Structure>` class act on the structure itself:"
   ]
  },
  {
   "cell_type": "code",
   "execution_count": null,
   "id": "f1db7001-aaba-425b-8b4d-9d993a558e5e",
   "metadata": {},
   "outputs": [],
   "source": [
    "strct_molecule.list_manipulation_methods()"
   ]
  },
  {
   "cell_type": "raw",
   "id": "26d1232b",
   "metadata": {
    "raw_mimetype": "text/restructuredtext"
   },
   "source": [
    "The function returns a new :class:`Structure <aim2dat.strct.Structure>` in case structural changes are induces otherwise the initial :class:`Structure <aim2dat.strct.Structure>` object is returned. In general, :attr:`kinds <aim2dat.strct.Structure.kinds>`, :attr:`attributes <aim2dat.strct.Structure.attributes>` and :attr:`site_attributes <aim2dat.strct.Structure.site_attributes>` are transferred to the new :class:`Structure <aim2dat.strct.Structure>` object (if not speficied otherwise). E.g. if \"Ga\" should be exchanged with \"Al\" we can simply call the :attr:`substitute_elements<aim2dat.strct.Structure.substitute_elements>` function and obtain a new :class:`Structure <aim2dat.strct.Structure>` object:"
   ]
  },
  {
   "cell_type": "code",
   "execution_count": null,
   "id": "519e879e-53e2-407f-a78e-5f4f2a989616",
   "metadata": {},
   "outputs": [],
   "source": [
    "strct_crystal_AsAl = strct_crystal_conv.substitute_elements(elements=[\"Ga\", \"Al\"])\n",
    "print(strct_crystal_AsAl)"
   ]
  },
  {
   "cell_type": "markdown",
   "id": "863b4378-e895-4d0f-a8c7-5cfbe9299731",
   "metadata": {},
   "source": [
    "If the element is not part of the structure, no substitution can be conducted and the original object is returned"
   ]
  },
  {
   "cell_type": "code",
   "execution_count": null,
   "id": "f77a174b-ca23-417c-a463-97620041020f",
   "metadata": {},
   "outputs": [],
   "source": [
    "strct_crystal_GaAs = strct_crystal_conv.substitute_elements(elements=[\"C\", \"Al\"])\n",
    "print(\n",
    "    \"Both structure objects have the same id and remain unchanged:\",\n",
    "    id(strct_crystal_GaAs) == id(strct_crystal_conv),\n",
    ")\n",
    "print(strct_crystal_GaAs)"
   ]
  },
  {
   "cell_type": "raw",
   "id": "46b3b8dc",
   "metadata": {
    "raw_mimetype": "text/restructuredtext"
   },
   "source": [
    "External manipulation methods\n",
    "=============================\n",
    "\n",
    "In addition to the methods implemented in the :class:`Structure <aim2dat.strct.Structure>` class less frequenetly used methods are implemented as functions in the  :mod:`ext_manipulation <aim2dat.strct.ext_manipulation>` module.\n",
    "To use these methods the :class:`Structure <aim2dat.strct.Structure>` object is passed as the first argument.\n",
    "\n",
    "It is also possible to define new `manipulation` methods by using the decorator :meth:`external_manipulation_method <aim2dat.strct.ext_manipulation.decorator.external_manipulation_method>`.\n",
    "The first argument needs to be named `structure` with type :class:`Structure <aim2dat.strct.Structure>` and the last one `change_label` with type bool.\n",
    "If structural changes are introduced the method should return either a :class:`Structure <aim2dat.strct.Structure>` object or a dictionary with the keyword arguments to initialize a :class:`Structure <aim2dat.strct.Structure>` object as well as the label-suffix as string object.\n",
    "Otherwise it should return ``Ǹone``.\n",
    "\n",
    "The function ``add_atom`` shown below gives an example for an external manipulation method. \n",
    "In case the element does not occur in the structure the original structure is returned.\n",
    "If an atom of the same element is already present in the structure the method adds an atom with the element and position defined by ``element`` and ``position``, respectively:"
   ]
  },
  {
   "cell_type": "code",
   "execution_count": null,
   "id": "0309391c-fb8b-46b7-8551-5162de0bcd2b",
   "metadata": {},
   "outputs": [],
   "source": [
    "from aim2dat.strct.ext_manipulation.decorator import external_manipulation_method\n",
    "from aim2dat.utils.element_properties import get_element_symbol\n",
    "\n",
    "@external_manipulation_method\n",
    "def add_atom(structure, element, position, change_label=False):\n",
    "    element = get_element_symbol(element)\n",
    "    if element in structure.elements:\n",
    "        new_structure = structure.to_dict()\n",
    "        new_structure[\"elements\"] = list(new_structure[\"elements\"]) + [element]\n",
    "        new_structure[\"positions\"] = list(new_structure[\"positions\"]) + [position]\n",
    "        if new_structure[\"kinds\"] is not None:\n",
    "            new_structure[\"kinds\"] = list(new_structure[\"kinds\"]) + [None]\n",
    "        for site_attr, val in new_structure[\"site_attributes\"].items():\n",
    "            new_structure[\"site_attributes\"][site_attr] = list(val) + [None]\n",
    "        return new_structure, \"_add\"\n",
    "\n",
    "new_structure = add_atom(strct_molecule, \"O\", [3.0, 3.0, 3.0], change_label=True)\n",
    "print(new_structure)\n",
    "new_structure = add_atom(strct_molecule, \"H\", [3.0, 3.0, 3.0], change_label=True)\n",
    "print(new_structure)"
   ]
  },
  {
   "cell_type": "raw",
   "id": "7ad82f9a",
   "metadata": {
    "raw_mimetype": "text/restructuredtext"
   },
   "source": [
    "Related API instances\n",
    "=====================\n",
    "\n",
    "* :class:`Structure <aim2dat.strct.Structure>`"
   ]
  }
 ],
 "metadata": {
  "celltoolbar": "Raw Cell Format",
  "kernelspec": {
   "display_name": "Python 3 (ipykernel)",
   "language": "python",
   "name": "python3"
  },
  "language_info": {
   "codemirror_mode": {
    "name": "ipython",
    "version": 3
   },
   "file_extension": ".py",
   "mimetype": "text/x-python",
   "name": "python",
   "nbconvert_exporter": "python",
   "pygments_lexer": "ipython3",
   "version": "3.13.5"
  }
 },
 "nbformat": 4,
 "nbformat_minor": 5
}
